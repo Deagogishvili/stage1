{
 "cells": [
  {
   "cell_type": "code",
   "execution_count": 121,
   "metadata": {},
   "outputs": [],
   "source": [
    "import pandas as pd\n",
    "import matplotlib.pyplot as plt\n",
    "import numpy as np"
   ]
  },
  {
   "cell_type": "code",
   "execution_count": 122,
   "metadata": {},
   "outputs": [],
   "source": [
    "df = pd.read_csv('../../data/processed_data/csv/dssp_data.csv')\n",
    "df2 = pd.read_csv('../../data/processed_data/csv/netsurp2_data.csv')"
   ]
  },
  {
   "cell_type": "code",
   "execution_count": 123,
   "metadata": {},
   "outputs": [],
   "source": [
    "df3 = df2.merge(df)"
   ]
  },
  {
   "cell_type": "code",
   "execution_count": 124,
   "metadata": {},
   "outputs": [
    {
     "data": {
      "text/html": [
       "<div>\n",
       "<style scoped>\n",
       "    .dataframe tbody tr th:only-of-type {\n",
       "        vertical-align: middle;\n",
       "    }\n",
       "\n",
       "    .dataframe tbody tr th {\n",
       "        vertical-align: top;\n",
       "    }\n",
       "\n",
       "    .dataframe thead th {\n",
       "        text-align: right;\n",
       "    }\n",
       "</style>\n",
       "<table border=\"1\" class=\"dataframe\">\n",
       "  <thead>\n",
       "    <tr style=\"text-align: right;\">\n",
       "      <th></th>\n",
       "      <th>id</th>\n",
       "      <th>thsa_netsurfp2</th>\n",
       "      <th>tasa_netsurfp2</th>\n",
       "      <th>q3_H</th>\n",
       "      <th>q3_E</th>\n",
       "      <th>q3_C</th>\n",
       "      <th>rhsa_netsurfp2</th>\n",
       "      <th>tasa</th>\n",
       "      <th>thsa</th>\n",
       "      <th>dssp_sequence</th>\n",
       "      <th>rhsa</th>\n",
       "    </tr>\n",
       "  </thead>\n",
       "  <tbody>\n",
       "    <tr>\n",
       "      <th>0</th>\n",
       "      <td>16VPA</td>\n",
       "      <td>4463.595412</td>\n",
       "      <td>15771.844393</td>\n",
       "      <td>184.757265</td>\n",
       "      <td>21.729876</td>\n",
       "      <td>104.512860</td>\n",
       "      <td>0.283010</td>\n",
       "      <td>14530</td>\n",
       "      <td>4471</td>\n",
       "      <td>SRMPSPPMPVPPAALFNRLLDDLGFSAGPALCTMLDTWNEDLFSAL...</td>\n",
       "      <td>0.307708</td>\n",
       "    </tr>\n",
       "    <tr>\n",
       "      <th>1</th>\n",
       "      <td>1A0IA</td>\n",
       "      <td>4052.193801</td>\n",
       "      <td>16238.504164</td>\n",
       "      <td>93.365751</td>\n",
       "      <td>108.420693</td>\n",
       "      <td>130.213555</td>\n",
       "      <td>0.249542</td>\n",
       "      <td>16693</td>\n",
       "      <td>4497</td>\n",
       "      <td>VNIKTNPFKAVSFVESAIKKALDNAGYLIAEIKYDGVRGNICVDNT...</td>\n",
       "      <td>0.269394</td>\n",
       "    </tr>\n",
       "    <tr>\n",
       "      <th>2</th>\n",
       "      <td>1A1XA</td>\n",
       "      <td>2233.972635</td>\n",
       "      <td>7251.236206</td>\n",
       "      <td>4.477318</td>\n",
       "      <td>52.950487</td>\n",
       "      <td>48.572195</td>\n",
       "      <td>0.308082</td>\n",
       "      <td>6998</td>\n",
       "      <td>1934</td>\n",
       "      <td>AGEDVGAPPDHLWVHQEGIYRDEYQRTWVAVVEEETSFLRARVQQI...</td>\n",
       "      <td>0.276365</td>\n",
       "    </tr>\n",
       "    <tr>\n",
       "      <th>3</th>\n",
       "      <td>1A41A</td>\n",
       "      <td>2360.526070</td>\n",
       "      <td>12120.411371</td>\n",
       "      <td>128.720827</td>\n",
       "      <td>28.342119</td>\n",
       "      <td>63.937054</td>\n",
       "      <td>0.194756</td>\n",
       "      <td>11796</td>\n",
       "      <td>2781</td>\n",
       "      <td>NAKRDRIFVRVYNVMKRINCFINKNIKKSSTDSNYQLAVFMLMETM...</td>\n",
       "      <td>0.235758</td>\n",
       "    </tr>\n",
       "    <tr>\n",
       "      <th>4</th>\n",
       "      <td>1A5TA</td>\n",
       "      <td>4368.264084</td>\n",
       "      <td>16049.712850</td>\n",
       "      <td>187.619046</td>\n",
       "      <td>30.157108</td>\n",
       "      <td>105.223846</td>\n",
       "      <td>0.272171</td>\n",
       "      <td>15998</td>\n",
       "      <td>4143</td>\n",
       "      <td>MRWYPWLRPDFEKLVASYQAGRGHHALLIQALPGMGDDALIYALSR...</td>\n",
       "      <td>0.258970</td>\n",
       "    </tr>\n",
       "  </tbody>\n",
       "</table>\n",
       "</div>"
      ],
      "text/plain": [
       "      id  thsa_netsurfp2  tasa_netsurfp2        q3_H        q3_E        q3_C  \\\n",
       "0  16VPA     4463.595412    15771.844393  184.757265   21.729876  104.512860   \n",
       "1  1A0IA     4052.193801    16238.504164   93.365751  108.420693  130.213555   \n",
       "2  1A1XA     2233.972635     7251.236206    4.477318   52.950487   48.572195   \n",
       "3  1A41A     2360.526070    12120.411371  128.720827   28.342119   63.937054   \n",
       "4  1A5TA     4368.264084    16049.712850  187.619046   30.157108  105.223846   \n",
       "\n",
       "   rhsa_netsurfp2   tasa  thsa  \\\n",
       "0        0.283010  14530  4471   \n",
       "1        0.249542  16693  4497   \n",
       "2        0.308082   6998  1934   \n",
       "3        0.194756  11796  2781   \n",
       "4        0.272171  15998  4143   \n",
       "\n",
       "                                       dssp_sequence      rhsa  \n",
       "0  SRMPSPPMPVPPAALFNRLLDDLGFSAGPALCTMLDTWNEDLFSAL...  0.307708  \n",
       "1  VNIKTNPFKAVSFVESAIKKALDNAGYLIAEIKYDGVRGNICVDNT...  0.269394  \n",
       "2  AGEDVGAPPDHLWVHQEGIYRDEYQRTWVAVVEEETSFLRARVQQI...  0.276365  \n",
       "3  NAKRDRIFVRVYNVMKRINCFINKNIKKSSTDSNYQLAVFMLMETM...  0.235758  \n",
       "4  MRWYPWLRPDFEKLVASYQAGRGHHALLIQALPGMGDDALIYALSR...  0.258970  "
      ]
     },
     "execution_count": 124,
     "metadata": {},
     "output_type": "execute_result"
    }
   ],
   "source": [
    "df3.head()"
   ]
  },
  {
   "cell_type": "code",
   "execution_count": 89,
   "metadata": {},
   "outputs": [],
   "source": [
    "def perc_corr(y_test, pred, x):\n",
    "        error = abs(y_test-pred)\n",
    "        y = [sum(error/y_test < i)/len(error) for i in x]\n",
    "        return(y)"
   ]
  },
  {
   "cell_type": "code",
   "execution_count": 90,
   "metadata": {},
   "outputs": [],
   "source": [
    "x = [x/100 for x in range(100+1)]\n",
    "error = abs(df3['thsa']-df3['thsa_netsurfp2'])\n",
    "y = [sum(error/df3['thsa'] < i)/len(error) for i in x]"
   ]
  },
  {
   "cell_type": "code",
   "execution_count": 91,
   "metadata": {},
   "outputs": [
    {
     "data": {
      "image/png": "[encoded data removed]",
      "text/plain": [
       "<Figure size 432x288 with 1 Axes>"
      ]
     },
     "metadata": {
      "needs_background": "light"
     },
     "output_type": "display_data"
    }
   ],
   "source": []
  },
  {
   "cell_type": "code",
   "execution_count": 100,
   "metadata": {},
   "outputs": [
    {
     "data": {
      "text/plain": [
       "(array([0.13099667, 0.1235559 , 0.12218524, 0.11082827, 0.09731741,\n",
       "        0.07754063, 0.06422557, 0.05345604, 0.03916193, 0.03563736,\n",
       "        0.03113374, 0.01860192, 0.01546896, 0.0140983 , 0.01076953,\n",
       "        0.01135696, 0.00665753, 0.00685334, 0.00587429, 0.00528686,\n",
       "        0.00332876, 0.00313295, 0.00156648, 0.00137067, 0.00156648,\n",
       "        0.00058743, 0.00097905, 0.00039162, 0.00058743, 0.00039162,\n",
       "        0.        , 0.00039162, 0.00058743, 0.00097905, 0.00058743,\n",
       "        0.00019581, 0.00039162, 0.        , 0.00039162, 0.        ,\n",
       "        0.00019581, 0.        , 0.00019581, 0.00039162, 0.        ,\n",
       "        0.        , 0.        , 0.        , 0.        , 0.        ]),\n",
       " array([0.  , 0.02, 0.04, 0.06, 0.08, 0.1 , 0.12, 0.14, 0.16, 0.18, 0.2 ,\n",
       "        0.22, 0.24, 0.26, 0.28, 0.3 , 0.32, 0.34, 0.36, 0.38, 0.4 , 0.42,\n",
       "        0.44, 0.46, 0.48, 0.5 , 0.52, 0.54, 0.56, 0.58, 0.6 , 0.62, 0.64,\n",
       "        0.66, 0.68, 0.7 , 0.72, 0.74, 0.76, 0.78, 0.8 , 0.82, 0.84, 0.86,\n",
       "        0.88, 0.9 , 0.92, 0.94, 0.96, 0.98, 1.  ]),\n",
       " <a list of 50 Patch objects>)"
      ]
     },
     "execution_count": 100,
     "metadata": {},
     "output_type": "execute_result"
    },
    {
     "data": {
      "image/png": "[encoded data removed]",
      "text/plain": [
       "<Figure size 432x288 with 1 Axes>"
      ]
     },
     "metadata": {
      "needs_background": "light"
     },
     "output_type": "display_data"
    }
   ],
   "source": [
    "weights = np.ones_like(sorted(error/df3['thsa']))/float(len(sorted(error/df3['thsa'])))\n",
    "plt"
   ]
  },
  {
   "cell_type": "code",
   "execution_count": 120,
   "metadata": {},
   "outputs": [
    {
     "data": {
      "text/plain": [
       "array([<matplotlib.axes._subplots.AxesSubplot object at 0x7f9290992690>,\n",
       "       <matplotlib.axes._subplots.AxesSubplot object at 0x7f92907b0690>],\n",
       "      dtype=object)"
      ]
     },
     "execution_count": 120,
     "metadata": {},
     "output_type": "execute_result"
    },
    {
     "data": {
      "image/png": "[encoded data removed]",
      "text/plain": [
       "<Figure size 432x432 with 2 Axes>"
      ]
     },
     "metadata": {
      "needs_background": "light"
     },
     "output_type": "display_data"
    }
   ],
   "source": [
    "figure, axes = plt.subplots(nrows=2, ncols=1, figsize=(6,6))\n",
    "\n",
    "axes[0].plot(x,y, label='NetSurfP2')\n",
    "axes[0].set_xlabel('Accepted error from solution (%)')\n",
    "axes[0].set_ylabel('Correctly predicted')\n",
    "axes[0].axvline(x=0.16, linestyle='--', color='black')\n",
    "axes[0].legend()\n",
    "axes[1].hist(sorted(error/df3['thsa']), weights=weights, bins=50, range=(0,1))\n",
    "axes[1].set_xlabel('Absolute error (%)')\n",
    "axes[1].set_ylabel('Density')\n",
    "axes[1].axvline(x=0.16, linestyle='--', color='black')\n",
    "\n",
    "figure.tight_layout()\n",
    "axes"
   ]
  },
  {
   "cell_type": "code",
   "execution_count": null,
   "metadata": {},
   "outputs": [],
   "source": []
  }
 ],
 "metadata": {
  "kernelspec": {
   "display_name": "Python 3",
   "language": "python",
   "name": "python3"
  },
  "language_info": {
   "codemirror_mode": {
    "name": "ipython",
    "version": 3
   },
   "file_extension": ".py",
   "mimetype": "text/x-python",
   "name": "python",
   "nbconvert_exporter": "python",
   "pygments_lexer": "ipython3",
   "version": "3.7.4"
  }
 },
 "nbformat": 4,
 "nbformat_minor": 2
}
