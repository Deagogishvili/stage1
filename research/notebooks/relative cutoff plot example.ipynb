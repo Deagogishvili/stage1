{
 "cells": [
  {
   "cell_type": "code",
   "execution_count": 2,
   "metadata": {},
   "outputs": [],
   "source": [
    "import pandas as pd\n",
    "import matplotlib.pyplot as plt\n",
    "import numpy as np"
   ]
  },
  {
   "cell_type": "code",
   "execution_count": 3,
   "metadata": {},
   "outputs": [],
   "source": [
    "df = pd.read_csv('../../data/processed_data/csv/dssp_data.csv')\n",
    "df2 = pd.read_csv('../../data/processed_data/csv/netsurp2_data.csv')"
   ]
  },
  {
   "cell_type": "code",
   "execution_count": 4,
   "metadata": {},
   "outputs": [],
   "source": [
    "df3 = df2.merge(df)"
   ]
  },
  {
   "cell_type": "code",
   "execution_count": 5,
   "metadata": {},
   "outputs": [
    {
     "data": {
      "text/html": [
       "<div>\n",
       "<style scoped>\n",
       "    .dataframe tbody tr th:only-of-type {\n",
       "        vertical-align: middle;\n",
       "    }\n",
       "\n",
       "    .dataframe tbody tr th {\n",
       "        vertical-align: top;\n",
       "    }\n",
       "\n",
       "    .dataframe thead th {\n",
       "        text-align: right;\n",
       "    }\n",
       "</style>\n",
       "<table border=\"1\" class=\"dataframe\">\n",
       "  <thead>\n",
       "    <tr style=\"text-align: right;\">\n",
       "      <th></th>\n",
       "      <th>id</th>\n",
       "      <th>thsa_netsurfp2</th>\n",
       "      <th>tasa_netsurfp2</th>\n",
       "      <th>q3_H</th>\n",
       "      <th>q3_E</th>\n",
       "      <th>q3_C</th>\n",
       "      <th>rhsa_netsurfp2</th>\n",
       "      <th>tasa</th>\n",
       "      <th>thsa</th>\n",
       "      <th>dssp_sequence</th>\n",
       "      <th>rhsa</th>\n",
       "    </tr>\n",
       "  </thead>\n",
       "  <tbody>\n",
       "    <tr>\n",
       "      <th>0</th>\n",
       "      <td>16VPA</td>\n",
       "      <td>4463.595412</td>\n",
       "      <td>15771.844393</td>\n",
       "      <td>184.757265</td>\n",
       "      <td>21.729876</td>\n",
       "      <td>104.512860</td>\n",
       "      <td>0.283010</td>\n",
       "      <td>14530</td>\n",
       "      <td>4471</td>\n",
       "      <td>SRMPSPPMPVPPAALFNRLLDDLGFSAGPALCTMLDTWNEDLFSAL...</td>\n",
       "      <td>0.307708</td>\n",
       "    </tr>\n",
       "    <tr>\n",
       "      <th>1</th>\n",
       "      <td>1A0IA</td>\n",
       "      <td>4052.193801</td>\n",
       "      <td>16238.504164</td>\n",
       "      <td>93.365751</td>\n",
       "      <td>108.420693</td>\n",
       "      <td>130.213555</td>\n",
       "      <td>0.249542</td>\n",
       "      <td>16693</td>\n",
       "      <td>4497</td>\n",
       "      <td>VNIKTNPFKAVSFVESAIKKALDNAGYLIAEIKYDGVRGNICVDNT...</td>\n",
       "      <td>0.269394</td>\n",
       "    </tr>\n",
       "    <tr>\n",
       "      <th>2</th>\n",
       "      <td>1A1XA</td>\n",
       "      <td>2233.972635</td>\n",
       "      <td>7251.236206</td>\n",
       "      <td>4.477318</td>\n",
       "      <td>52.950487</td>\n",
       "      <td>48.572195</td>\n",
       "      <td>0.308082</td>\n",
       "      <td>6998</td>\n",
       "      <td>1934</td>\n",
       "      <td>AGEDVGAPPDHLWVHQEGIYRDEYQRTWVAVVEEETSFLRARVQQI...</td>\n",
       "      <td>0.276365</td>\n",
       "    </tr>\n",
       "    <tr>\n",
       "      <th>3</th>\n",
       "      <td>1A41A</td>\n",
       "      <td>2360.526070</td>\n",
       "      <td>12120.411371</td>\n",
       "      <td>128.720827</td>\n",
       "      <td>28.342119</td>\n",
       "      <td>63.937054</td>\n",
       "      <td>0.194756</td>\n",
       "      <td>11796</td>\n",
       "      <td>2781</td>\n",
       "      <td>NAKRDRIFVRVYNVMKRINCFINKNIKKSSTDSNYQLAVFMLMETM...</td>\n",
       "      <td>0.235758</td>\n",
       "    </tr>\n",
       "    <tr>\n",
       "      <th>4</th>\n",
       "      <td>1A5TA</td>\n",
       "      <td>4368.264084</td>\n",
       "      <td>16049.712850</td>\n",
       "      <td>187.619046</td>\n",
       "      <td>30.157108</td>\n",
       "      <td>105.223846</td>\n",
       "      <td>0.272171</td>\n",
       "      <td>15998</td>\n",
       "      <td>4143</td>\n",
       "      <td>MRWYPWLRPDFEKLVASYQAGRGHHALLIQALPGMGDDALIYALSR...</td>\n",
       "      <td>0.258970</td>\n",
       "    </tr>\n",
       "  </tbody>\n",
       "</table>\n",
       "</div>"
      ],
      "text/plain": [
       "      id  thsa_netsurfp2  tasa_netsurfp2        q3_H        q3_E        q3_C  \\\n",
       "0  16VPA     4463.595412    15771.844393  184.757265   21.729876  104.512860   \n",
       "1  1A0IA     4052.193801    16238.504164   93.365751  108.420693  130.213555   \n",
       "2  1A1XA     2233.972635     7251.236206    4.477318   52.950487   48.572195   \n",
       "3  1A41A     2360.526070    12120.411371  128.720827   28.342119   63.937054   \n",
       "4  1A5TA     4368.264084    16049.712850  187.619046   30.157108  105.223846   \n",
       "\n",
       "   rhsa_netsurfp2   tasa  thsa  \\\n",
       "0        0.283010  14530  4471   \n",
       "1        0.249542  16693  4497   \n",
       "2        0.308082   6998  1934   \n",
       "3        0.194756  11796  2781   \n",
       "4        0.272171  15998  4143   \n",
       "\n",
       "                                       dssp_sequence      rhsa  \n",
       "0  SRMPSPPMPVPPAALFNRLLDDLGFSAGPALCTMLDTWNEDLFSAL...  0.307708  \n",
       "1  VNIKTNPFKAVSFVESAIKKALDNAGYLIAEIKYDGVRGNICVDNT...  0.269394  \n",
       "2  AGEDVGAPPDHLWVHQEGIYRDEYQRTWVAVVEEETSFLRARVQQI...  0.276365  \n",
       "3  NAKRDRIFVRVYNVMKRINCFINKNIKKSSTDSNYQLAVFMLMETM...  0.235758  \n",
       "4  MRWYPWLRPDFEKLVASYQAGRGHHALLIQALPGMGDDALIYALSR...  0.258970  "
      ]
     },
     "execution_count": 5,
     "metadata": {},
     "output_type": "execute_result"
    }
   ],
   "source": [
    "df3.head()"
   ]
  },
  {
   "cell_type": "code",
   "execution_count": 6,
   "metadata": {},
   "outputs": [],
   "source": [
    "def perc_corr(y_test, pred, x):\n",
    "        error = abs(y_test-pred)\n",
    "        y = [sum(error/y_test < i)/len(error) for i in x]\n",
    "        return(y)"
   ]
  },
  {
   "cell_type": "code",
   "execution_count": 7,
   "metadata": {},
   "outputs": [],
   "source": [
    "x = [x/100 for x in range(100+1)]\n",
    "error = abs(df3['thsa']-df3['thsa_netsurfp2'])\n",
    "y = [sum(error/df3['thsa'] < i)/len(error) for i in x]"
   ]
  },
  {
   "cell_type": "code",
   "execution_count": null,
   "metadata": {},
   "outputs": [],
   "source": []
  },
  {
   "cell_type": "code",
   "execution_count": 8,
   "metadata": {},
   "outputs": [
    {
     "data": {
      "text/plain": [
       "<module 'matplotlib.pyplot' from '/home/jan/anaconda3/lib/python3.7/site-packages/matplotlib/pyplot.py'>"
      ]
     },
     "execution_count": 8,
     "metadata": {},
     "output_type": "execute_result"
    }
   ],
   "source": [
    "weights = np.ones_like(sorted(error/df3['thsa']))/float(len(sorted(error/df3['thsa'])))\n",
    "plt"
   ]
  },
  {
   "cell_type": "code",
   "execution_count": 24,
   "metadata": {},
   "outputs": [
    {
     "data": {
      "text/plain": [
       "array([<matplotlib.axes._subplots.AxesSubplot object at 0x7fbe9adc81d0>,\n",
       "       <matplotlib.axes._subplots.AxesSubplot object at 0x7fbe9ad940d0>],\n",
       "      dtype=object)"
      ]
     },
     "execution_count": 24,
     "metadata": {},
     "output_type": "execute_result"
    },
    {
     "data": {
      "image/png": "[encoded data removed]",
      "text/plain": [
       "<Figure size 432x432 with 2 Axes>"
      ]
     },
     "metadata": {
      "needs_background": "light"
     },
     "output_type": "display_data"
    }
   ],
   "source": [
    "figure, axes = plt.subplots(nrows=2, ncols=1, figsize=(6,6))\n",
    "\n",
    "axes[0].plot([i*100 for i in x],[i*100 for i in y], label='NetSurfP2')\n",
    "axes[0].set_xlabel('Accepted error from solution (t) (%)')\n",
    "axes[0].set_ylabel('Correctly predicted (F(t))')\n",
    "axes[0].axvline(x=16, linestyle='--', color='black')\n",
    "axes[0].legend()\n",
    "axes[1].hist(sorted(error/df3['thsa']), weights=weights, bins=50, range=(0,1))\n",
    "axes[1].set_xlabel(r'$Relative\\ error\\ (\\delta)$')\n",
    "axes[1].set_ylabel('Density')\n",
    "axes[1].axvline(x=0.16, linestyle='--', color='black')\n",
    "\n",
    "figure.tight_layout()\n",
    "axes"
   ]
  },
  {
   "cell_type": "code",
   "execution_count": 20,
   "metadata": {},
   "outputs": [
    {
     "data": {
      "text/plain": [
       "'$\\\\alpha_i > \\\\beta_i$'"
      ]
     },
     "execution_count": 20,
     "metadata": {},
     "output_type": "execute_result"
    }
   ],
   "source": [
    "r'$\\alpha_i > \\beta_i$'"
   ]
  },
  {
   "cell_type": "code",
   "execution_count": null,
   "metadata": {},
   "outputs": [],
   "source": []
  }
 ],
 "metadata": {
  "kernelspec": {
   "display_name": "Python 3",
   "language": "python",
   "name": "python3"
  },
  "language_info": {
   "codemirror_mode": {
    "name": "ipython",
    "version": 3
   },
   "file_extension": ".py",
   "mimetype": "text/x-python",
   "name": "python",
   "nbconvert_exporter": "python",
   "pygments_lexer": "ipython3",
   "version": "3.7.4"
  }
 },
 "nbformat": 4,
 "nbformat_minor": 2
}
