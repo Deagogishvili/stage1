{
 "cells": [
  {
   "cell_type": "code",
   "execution_count": 107,
   "metadata": {},
   "outputs": [],
   "source": [
    "import pandas as pd\n",
    "import matplotlib.pyplot as plt\n",
    "%matplotlib inline"
   ]
  },
  {
   "cell_type": "code",
   "execution_count": 130,
   "metadata": {},
   "outputs": [],
   "source": [
    "df = pd.read_csv('../../data/patches/lp_pisite_residue.csv')\n",
    "df['percentage_interaction'] = df['ppi_in_patch']/df['patch_size']\n",
    "df['random'] = df['random_patch_size']/df['patch_size']"
   ]
  },
  {
   "cell_type": "code",
   "execution_count": 131,
   "metadata": {},
   "outputs": [
    {
     "data": {
      "text/plain": [
       "58531"
      ]
     },
     "execution_count": 131,
     "metadata": {},
     "output_type": "execute_result"
    }
   ],
   "source": [
    "len(df)"
   ]
  },
  {
   "cell_type": "code",
   "execution_count": 129,
   "metadata": {},
   "outputs": [
    {
     "data": {
      "text/plain": [
       "4031"
      ]
     },
     "execution_count": 129,
     "metadata": {},
     "output_type": "execute_result"
    }
   ],
   "source": [
    "len(df[df['rank'] == 1])"
   ]
  },
  {
   "cell_type": "code",
   "execution_count": 110,
   "metadata": {},
   "outputs": [
    {
     "data": {
      "image/png": "[encoded data removed]",
      "text/plain": [
       "<Figure size 1152x648 with 9 Axes>"
      ]
     },
     "metadata": {
      "needs_background": "light"
     },
     "output_type": "display_data"
    }
   ],
   "source": [
    "x, y = 3, 3\n",
    "fig, axs = plt.subplots(x, y, figsize=(16, 9))\n",
    "fig.suptitle('Percentage pisites in patches')\n",
    "\n",
    "for i in range(x):\n",
    "    for j in range(y):\n",
    "        axs[i, j].hist(df[df['rank'] == i*3+j+1]['percentage_interaction'])\n",
    "        axs[i, j].set_title('Patch rank '+str(i*3+j+1))\n",
    "        \n",
    "for ax in axs.flat:\n",
    "    ax.set(xlabel='PPI sites (%)', ylabel='Count')\n",
    "    \n",
    "plt.subplots_adjust(hspace=.7)"
   ]
  },
  {
   "cell_type": "code",
   "execution_count": 121,
   "metadata": {
    "scrolled": true
   },
   "outputs": [
    {
     "data": {
      "text/plain": [
       "20.73764705882353"
      ]
     },
     "execution_count": 121,
     "metadata": {},
     "output_type": "execute_result"
    }
   ],
   "source": [
    "df[df['rank'] == 1]['patch_size'].mean()"
   ]
  },
  {
   "cell_type": "code",
   "execution_count": 124,
   "metadata": {},
   "outputs": [
    {
     "data": {
      "text/plain": [
       "1178.8338823529411"
      ]
     },
     "execution_count": 124,
     "metadata": {},
     "output_type": "execute_result"
    }
   ],
   "source": [
    "df[df['rank'] == 1]['size'].mean()"
   ]
  },
  {
   "cell_type": "code",
   "execution_count": 123,
   "metadata": {},
   "outputs": [
    {
     "data": {
      "text/plain": [
       "178.72070588235295"
      ]
     },
     "execution_count": 123,
     "metadata": {},
     "output_type": "execute_result"
    }
   ],
   "source": [
    "df[df['rank'] == 1]['on_surface'].mean()"
   ]
  },
  {
   "cell_type": "code",
   "execution_count": 111,
   "metadata": {},
   "outputs": [
    {
     "data": {
      "text/plain": [
       "rank\n",
       "1.0     20.737647\n",
       "2.0      8.855987\n",
       "3.0      5.685045\n",
       "4.0      4.172796\n",
       "5.0      3.431224\n",
       "6.0      2.855592\n",
       "7.0      2.523338\n",
       "8.0      2.261229\n",
       "9.0      2.079128\n",
       "10.0     1.958882\n",
       "11.0     1.814375\n",
       "12.0     1.747677\n",
       "13.0     1.687400\n",
       "14.0     1.601616\n",
       "15.0     1.572869\n",
       "16.0     1.565541\n",
       "17.0     1.445693\n",
       "18.0     1.509815\n",
       "19.0     1.452410\n",
       "20.0     1.421438\n",
       "Name: patch_size, dtype: float64"
      ]
     },
     "execution_count": 111,
     "metadata": {},
     "output_type": "execute_result"
    }
   ],
   "source": [
    "df.groupby('rank')['patch_size'].mean()"
   ]
  },
  {
   "cell_type": "code",
   "execution_count": 112,
   "metadata": {},
   "outputs": [
    {
     "name": "stdout",
     "output_type": "stream",
     "text": [
      "rank 1 WilcoxonResult(statistic=976265.0, pvalue=0.0)\n",
      "rank 2 WilcoxonResult(statistic=1916637.0, pvalue=1.9878615562726393e-39)\n",
      "rank 3 WilcoxonResult(statistic=1725888.5, pvalue=8.552507191620407e-07)\n",
      "rank 4 WilcoxonResult(statistic=1302384.0, pvalue=0.0044563153179445125)\n",
      "rank 5 WilcoxonResult(statistic=1092789.5, pvalue=0.15831296845285803)\n",
      "rank 6 WilcoxonResult(statistic=801161.0, pvalue=0.47870965328906645)\n",
      "rank 7 WilcoxonResult(statistic=637705.0, pvalue=0.005295590115810462)\n",
      "rank 8 WilcoxonResult(statistic=492770.0, pvalue=0.13644084213725807)\n",
      "rank 9 WilcoxonResult(statistic=401632.0, pvalue=0.0025561171589166013)\n",
      "rank 10 WilcoxonResult(statistic=315216.0, pvalue=0.0020822894874165166)\n",
      "rank 11 WilcoxonResult(statistic=237748.0, pvalue=0.000888181708366419)\n",
      "rank 12 WilcoxonResult(statistic=175238.0, pvalue=1.8311571200950238e-07)\n",
      "rank 13 WilcoxonResult(statistic=135816.0, pvalue=1.5132416950075855e-06)\n",
      "rank 14 WilcoxonResult(statistic=120896.5, pvalue=4.382010564015044e-05)\n",
      "rank 15 WilcoxonResult(statistic=92792.0, pvalue=4.817757613113549e-08)\n",
      "rank 16 WilcoxonResult(statistic=71454.0, pvalue=1.8040589870437548e-07)\n",
      "rank 17 WilcoxonResult(statistic=48543.5, pvalue=3.508983054239397e-12)\n",
      "rank 18 WilcoxonResult(statistic=49156.5, pvalue=0.00012380713545280314)\n",
      "rank 19 WilcoxonResult(statistic=39990.5, pvalue=4.130360925224775e-09)\n",
      "rank 20 WilcoxonResult(statistic=25577.5, pvalue=9.509212710073014e-10)\n"
     ]
    }
   ],
   "source": [
    "from scipy.stats import ttest_ind\n",
    "from scipy.stats import wilcoxon\n",
    "\n",
    "for x in range(1,21):\n",
    "    print('rank '+str(x),wilcoxon(df[df['rank'] == x]['percentage_interaction'],df[df['rank'] == x]['random']))"
   ]
  },
  {
   "cell_type": "code",
   "execution_count": 133,
   "metadata": {
    "scrolled": true
   },
   "outputs": [
    {
     "name": "stdout",
     "output_type": "stream",
     "text": [
      "rank 1 0.4786924465321401 0.27589559719900536\n",
      "rank 2 0.3522956944020954 0.2735898143020603\n",
      "rank 3 0.30637294005703997 0.2702052058090394\n",
      "rank 4 0.2796224385046803 0.2577161008027385\n",
      "rank 5 0.25792806993543826 0.24547365554358677\n",
      "rank 6 0.2346160165989158 0.23142321646118977\n",
      "rank 7 0.20616446260010632 0.23278423093486814\n",
      "rank 8 0.1971292506088605 0.21604304055545215\n",
      "rank 9 0.18972889778964547 0.2224282726619175\n",
      "rank 10 0.1735454521720969 0.20842444653299916\n",
      "rank 11 0.16637700904972358 0.2027080420355018\n",
      "rank 12 0.1449708906230645 0.20196027804723443\n",
      "rank 13 0.1373177261335156 0.19124694196464515\n",
      "rank 14 0.14062807662747637 0.1872636653867894\n",
      "rank 15 0.13442433037987578 0.19941367319919096\n",
      "rank 16 0.11151995554925045 0.17415551457259495\n",
      "rank 17 0.10364276796861066 0.18702642105531342\n",
      "rank 18 0.11304437479379743 0.1632097950804649\n",
      "rank 19 0.10913679439637411 0.18266083936664904\n",
      "rank 20 0.09835140447657092 0.17768372328958215\n"
     ]
    }
   ],
   "source": [
    "for x in range(1,21):\n",
    "    avg_correct = df[df['rank'] == x]['percentage_interaction'].mean()\n",
    "    avg_random_correct = df[df['rank'] == x]['random'].mean()\n",
    "    print('rank '+str(x), avg_correct, avg_random_correct)"
   ]
  },
  {
   "cell_type": "code",
   "execution_count": 134,
   "metadata": {},
   "outputs": [
    {
     "data": {
      "text/plain": [
       "0.22501765097524593"
      ]
     },
     "execution_count": 134,
     "metadata": {},
     "output_type": "execute_result"
    }
   ],
   "source": [
    "df['random'].mean()"
   ]
  },
  {
   "cell_type": "code",
   "execution_count": 114,
   "metadata": {},
   "outputs": [
    {
     "data": {
      "text/plain": [
       "<matplotlib.axes._subplots.AxesSubplot at 0x7f52eb741290>"
      ]
     },
     "execution_count": 114,
     "metadata": {},
     "output_type": "execute_result"
    },
    {
     "data": {
      "image/png": "[encoded data removed]",
      "text/plain": [
       "<Figure size 432x288 with 1 Axes>"
      ]
     },
     "metadata": {
      "needs_background": "light"
     },
     "output_type": "display_data"
    }
   ],
   "source": [
    "df[df['rank'] == 10]['random'].plot.hist()"
   ]
  },
  {
   "cell_type": "code",
   "execution_count": 117,
   "metadata": {},
   "outputs": [
    {
     "data": {
      "text/plain": [
       "<matplotlib.axes._subplots.AxesSubplot at 0x7f52eb76ccd0>"
      ]
     },
     "execution_count": 117,
     "metadata": {},
     "output_type": "execute_result"
    },
    {
     "data": {
      "image/png": "[encoded data removed]",
      "text/plain": [
       "<Figure size 432x288 with 1 Axes>"
      ]
     },
     "metadata": {
      "needs_background": "light"
     },
     "output_type": "display_data"
    }
   ],
   "source": [
    "df[df['rank'] == 10]['random'].plot.hist()"
   ]
  },
  {
   "cell_type": "code",
   "execution_count": 118,
   "metadata": {},
   "outputs": [
    {
     "data": {
      "text/plain": [
       "<matplotlib.axes._subplots.AxesSubplot at 0x7f52eafc2950>"
      ]
     },
     "execution_count": 118,
     "metadata": {},
     "output_type": "execute_result"
    },
    {
     "data": {
      "image/png": "[encoded data removed]",
      "text/plain": [
       "<Figure size 432x288 with 1 Axes>"
      ]
     },
     "metadata": {
      "needs_background": "light"
     },
     "output_type": "display_data"
    }
   ],
   "source": [
    "df[df['rank'] == 10]['percentage_interaction'].plot.hist()"
   ]
  },
  {
   "cell_type": "code",
   "execution_count": null,
   "metadata": {},
   "outputs": [],
   "source": []
  },
  {
   "cell_type": "code",
   "execution_count": null,
   "metadata": {},
   "outputs": [],
   "source": []
  }
 ],
 "metadata": {
  "kernelspec": {
   "display_name": "Python 3",
   "language": "python",
   "name": "python3"
  },
  "language_info": {
   "codemirror_mode": {
    "name": "ipython",
    "version": 3
   },
   "file_extension": ".py",
   "mimetype": "text/x-python",
   "name": "python",
   "nbconvert_exporter": "python",
   "pygments_lexer": "ipython3",
   "version": "3.7.4"
  }
 },
 "nbformat": 4,
 "nbformat_minor": 2
}
