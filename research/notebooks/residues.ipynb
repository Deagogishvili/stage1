{
 "cells": [
  {
   "cell_type": "code",
   "execution_count": 2,
   "metadata": {},
   "outputs": [],
   "source": [
    "import pandas as pd\n",
    "import matplotlib.pyplot as plt\n",
    "%matplotlib inline"
   ]
  },
  {
   "cell_type": "code",
   "execution_count": 3,
   "metadata": {},
   "outputs": [],
   "source": [
    "df = pd.read_csv('../../data/patches/lp_pisite_residue_with_aa.csv')\n",
    "df['percentage_interaction'] = df['ppi_in_patch']/df['patch_size']\n",
    "df['random'] = df['random_patch_size']/df['patch_size']"
   ]
  },
  {
   "cell_type": "code",
   "execution_count": 4,
   "metadata": {},
   "outputs": [
    {
     "data": {
      "text/plain": [
       "60013"
      ]
     },
     "execution_count": 4,
     "metadata": {},
     "output_type": "execute_result"
    }
   ],
   "source": [
    "len(df)"
   ]
  },
  {
   "cell_type": "code",
   "execution_count": 13,
   "metadata": {},
   "outputs": [
    {
     "data": {
      "text/plain": [
       "4460"
      ]
     },
     "execution_count": 13,
     "metadata": {},
     "output_type": "execute_result"
    }
   ],
   "source": [
    "len(df[df['rank'] == 1])"
   ]
  },
  {
   "cell_type": "code",
   "execution_count": 14,
   "metadata": {},
   "outputs": [
    {
     "data": {
      "text/plain": [
       "(89.0, 17159.0)"
      ]
     },
     "execution_count": 14,
     "metadata": {},
     "output_type": "execute_result"
    }
   ],
   "source": [
    "min(df[df['rank'] == 1]['size']), max(df[df['rank'] == 1]['size'])"
   ]
  },
  {
   "cell_type": "code",
   "execution_count": 15,
   "metadata": {},
   "outputs": [
    {
     "data": {
      "image/png": "[encoded data removed]",
      "text/plain": [
       "<Figure size 1152x648 with 9 Axes>"
      ]
     },
     "metadata": {
      "needs_background": "light"
     },
     "output_type": "display_data"
    }
   ],
   "source": [
    "x, y = 3, 3\n",
    "fig, axs = plt.subplots(x, y, figsize=(16, 9))\n",
    "fig.suptitle('Percentage pisites in patches')\n",
    "\n",
    "for i in range(x):\n",
    "    for j in range(y):\n",
    "        axs[i, j].hist(df[df['rank'] == i*3+j+1]['percentage_interaction'])\n",
    "        axs[i, j].set_title('Patch rank '+str(i*3+j+1))\n",
    "        \n",
    "for ax in axs.flat:\n",
    "    ax.set(xlabel='PPI sites (%)', ylabel='Count')\n",
    "    \n",
    "plt.subplots_adjust(hspace=.7)"
   ]
  },
  {
   "cell_type": "code",
   "execution_count": 16,
   "metadata": {
    "scrolled": true
   },
   "outputs": [
    {
     "data": {
      "text/plain": [
       "26.463677130044843"
      ]
     },
     "execution_count": 16,
     "metadata": {},
     "output_type": "execute_result"
    }
   ],
   "source": [
    "df[df['rank'] == 1]['patch_size'].mean()"
   ]
  },
  {
   "cell_type": "code",
   "execution_count": 17,
   "metadata": {},
   "outputs": [
    {
     "data": {
      "text/plain": [
       "1325.1506726457399"
      ]
     },
     "execution_count": 17,
     "metadata": {},
     "output_type": "execute_result"
    }
   ],
   "source": [
    "df[df['rank'] == 1]['size'].mean()"
   ]
  },
  {
   "cell_type": "code",
   "execution_count": 18,
   "metadata": {},
   "outputs": [
    {
     "data": {
      "text/plain": [
       "180.8334080717489"
      ]
     },
     "execution_count": 18,
     "metadata": {},
     "output_type": "execute_result"
    }
   ],
   "source": [
    "df[df['rank'] == 1]['on_surface'].mean()"
   ]
  },
  {
   "cell_type": "code",
   "execution_count": 19,
   "metadata": {},
   "outputs": [
    {
     "data": {
      "text/plain": [
       "rank\n",
       "1.0     26.463677\n",
       "2.0     10.768567\n",
       "3.0      6.657956\n",
       "4.0      4.969646\n",
       "5.0      3.923154\n",
       "6.0      3.329236\n",
       "7.0      2.872951\n",
       "8.0      2.607514\n",
       "9.0      2.276602\n",
       "10.0     2.193245\n",
       "11.0     2.044797\n",
       "12.0     1.978349\n",
       "13.0     1.883143\n",
       "14.0     1.822175\n",
       "15.0     1.756053\n",
       "16.0     1.755335\n",
       "17.0     1.656000\n",
       "18.0     1.644380\n",
       "19.0     1.641405\n",
       "20.0     1.576408\n",
       "Name: patch_size, dtype: float64"
      ]
     },
     "execution_count": 19,
     "metadata": {},
     "output_type": "execute_result"
    }
   ],
   "source": [
    "df.groupby('rank')['patch_size'].mean()"
   ]
  },
  {
   "cell_type": "code",
   "execution_count": 20,
   "metadata": {},
   "outputs": [
    {
     "name": "stdout",
     "output_type": "stream",
     "text": [
      "rank 1 WilcoxonResult(statistic=1484841.5, pvalue=2.5314640162597593e-266)\n",
      "rank 2 WilcoxonResult(statistic=2413719.5, pvalue=5.6607942958629725e-24)\n",
      "rank 3 WilcoxonResult(statistic=1963004.0, pvalue=3.414339858740239e-06)\n",
      "rank 4 WilcoxonResult(statistic=1606768.0, pvalue=0.7228537358260343)\n",
      "rank 5 WilcoxonResult(statistic=1241480.5, pvalue=0.6584869215353509)\n",
      "rank 6 WilcoxonResult(statistic=889017.5, pvalue=0.13762363642922648)\n",
      "rank 7 WilcoxonResult(statistic=658956.5, pvalue=0.0321120346710011)\n",
      "rank 8 WilcoxonResult(statistic=536599.5, pvalue=2.1778867298445664e-06)\n",
      "rank 9 WilcoxonResult(statistic=412990.5, pvalue=0.04538609689152154)\n",
      "rank 10 WilcoxonResult(statistic=314712.5, pvalue=0.0029281525197761547)\n",
      "rank 11 WilcoxonResult(statistic=251372.0, pvalue=0.0023288652154904686)\n",
      "rank 12 WilcoxonResult(statistic=197527.5, pvalue=1.1156513798547114e-07)\n",
      "rank 13 WilcoxonResult(statistic=156233.5, pvalue=1.1507814122007854e-07)\n",
      "rank 14 WilcoxonResult(statistic=117774.5, pvalue=9.266183946257229e-07)\n",
      "rank 15 WilcoxonResult(statistic=89791.0, pvalue=5.939286098007324e-12)\n",
      "rank 16 WilcoxonResult(statistic=84388.0, pvalue=2.5305882114344255e-06)\n",
      "rank 17 WilcoxonResult(statistic=59952.0, pvalue=3.0759869340766513e-09)\n",
      "rank 18 WilcoxonResult(statistic=41422.0, pvalue=8.871421911851104e-10)\n",
      "rank 19 WilcoxonResult(statistic=36550.5, pvalue=2.0556591966537636e-06)\n",
      "rank 20 WilcoxonResult(statistic=27505.0, pvalue=2.2295573129508167e-08)\n"
     ]
    }
   ],
   "source": [
    "from scipy.stats import ttest_ind\n",
    "from scipy.stats import wilcoxon\n",
    "\n",
    "for x in range(1,21):\n",
    "    print('rank '+str(x),wilcoxon(df[df['rank'] == x]['percentage_interaction'],df[df['rank'] == x]['random']))"
   ]
  },
  {
   "cell_type": "code",
   "execution_count": 21,
   "metadata": {
    "scrolled": true
   },
   "outputs": [
    {
     "name": "stdout",
     "output_type": "stream",
     "text": [
      "rank 1 0.41009936868860314 0.27557369935645387\n",
      "rank 2 0.32717224773893566 0.2662756853181081\n",
      "rank 3 0.2952855836408867 0.25755354564031235\n",
      "rank 4 0.2645964223579848 0.2540200435437006\n",
      "rank 5 0.2530579360296704 0.24241069170694465\n",
      "rank 6 0.22934837850809747 0.23628562917137358\n",
      "rank 7 0.20230515132033952 0.22008788133185497\n",
      "rank 8 0.1902496973161713 0.22910347319668134\n",
      "rank 9 0.18144505244321243 0.202411271427452\n",
      "rank 10 0.1707014738356082 0.20116393386123813\n",
      "rank 11 0.15731464626192398 0.18874051899551536\n",
      "rank 12 0.1445015290519877 0.19720621682089556\n",
      "rank 13 0.13835064023575666 0.19500204800244256\n",
      "rank 14 0.13193826784445123 0.18401419002698305\n",
      "rank 15 0.11486347265241739 0.18903610475104302\n",
      "rank 16 0.12065796210957502 0.17752374865278084\n",
      "rank 17 0.110535873015873 0.17749608465608452\n",
      "rank 18 0.10000960614793467 0.1704594940762087\n",
      "rank 19 0.09902101732046277 0.156717425109292\n",
      "rank 20 0.09195710455764076 0.16216647516915625\n"
     ]
    }
   ],
   "source": [
    "for x in range(1,21):\n",
    "    avg_correct = df[df['rank'] == x]['percentage_interaction'].mean()\n",
    "    avg_random_correct = df[df['rank'] == x]['random'].mean()\n",
    "    print('rank '+str(x), avg_correct, avg_random_correct)"
   ]
  },
  {
   "cell_type": "code",
   "execution_count": 19,
   "metadata": {},
   "outputs": [
    {
     "data": {
      "text/plain": [
       "4201"
      ]
     },
     "execution_count": 19,
     "metadata": {},
     "output_type": "execute_result"
    }
   ],
   "source": [
    "len(df[df['rank'] == 2])"
   ]
  },
  {
   "cell_type": "code",
   "execution_count": 134,
   "metadata": {},
   "outputs": [
    {
     "data": {
      "text/plain": [
       "0.22501765097524593"
      ]
     },
     "execution_count": 134,
     "metadata": {},
     "output_type": "execute_result"
    }
   ],
   "source": [
    "df['random'].mean()"
   ]
  },
  {
   "cell_type": "code",
   "execution_count": 114,
   "metadata": {},
   "outputs": [
    {
     "data": {
      "text/plain": [
       "<matplotlib.axes._subplots.AxesSubplot at 0x7f52eb741290>"
      ]
     },
     "execution_count": 114,
     "metadata": {},
     "output_type": "execute_result"
    },
    {
     "data": {
      "image/png": "[encoded data removed]",
      "text/plain": [
       "<Figure size 432x288 with 1 Axes>"
      ]
     },
     "metadata": {
      "needs_background": "light"
     },
     "output_type": "display_data"
    }
   ],
   "source": [
    "df[df['rank'] == 10]['random'].plot.hist()"
   ]
  },
  {
   "cell_type": "code",
   "execution_count": 117,
   "metadata": {},
   "outputs": [
    {
     "data": {
      "text/plain": [
       "<matplotlib.axes._subplots.AxesSubplot at 0x7f52eb76ccd0>"
      ]
     },
     "execution_count": 117,
     "metadata": {},
     "output_type": "execute_result"
    },
    {
     "data": {
      "image/png": "[encoded data removed]",
      "text/plain": [
       "<Figure size 432x288 with 1 Axes>"
      ]
     },
     "metadata": {
      "needs_background": "light"
     },
     "output_type": "display_data"
    }
   ],
   "source": [
    "df[df['rank'] == 10]['random'].plot.hist()"
   ]
  },
  {
   "cell_type": "code",
   "execution_count": 118,
   "metadata": {},
   "outputs": [
    {
     "data": {
      "text/plain": [
       "<matplotlib.axes._subplots.AxesSubplot at 0x7f52eafc2950>"
      ]
     },
     "execution_count": 118,
     "metadata": {},
     "output_type": "execute_result"
    },
    {
     "data": {
      "image/png": "[encoded data removed]",
      "text/plain": [
       "<Figure size 432x288 with 1 Axes>"
      ]
     },
     "metadata": {
      "needs_background": "light"
     },
     "output_type": "display_data"
    }
   ],
   "source": [
    "df[df['rank'] == 10]['percentage_interaction'].plot.hist()"
   ]
  },
  {
   "cell_type": "code",
   "execution_count": null,
   "metadata": {},
   "outputs": [],
   "source": []
  },
  {
   "cell_type": "code",
   "execution_count": null,
   "metadata": {},
   "outputs": [],
   "source": []
  }
 ],
 "metadata": {
  "kernelspec": {
   "display_name": "Python 3",
   "language": "python",
   "name": "python3"
  },
  "language_info": {
   "codemirror_mode": {
    "name": "ipython",
    "version": 3
   },
   "file_extension": ".py",
   "mimetype": "text/x-python",
   "name": "python",
   "nbconvert_exporter": "python",
   "pygments_lexer": "ipython3",
   "version": "3.7.4"
  }
 },
 "nbformat": 4,
 "nbformat_minor": 2
}
